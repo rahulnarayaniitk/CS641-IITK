{
 "cells": [
  {
   "cell_type": "code",
   "execution_count": 2,
   "metadata": {},
   "outputs": [
    {
     "name": "stdout",
     "output_type": "stream",
     "text": [
      "----------------------------------------------------------------------------------------------------\n",
      "Finding Missing Message for padding :'You see a Gold-Bug in one corner. It is the key to a treasure found by '\n",
      "No results Found!! Try different Padding\n",
      "----------------------------------------------------------------------------------------------------\n",
      "Finding Missing Message for padding :'you see a gold-bug in one corner. it is the key to a treasure found by '\n",
      "No results Found!! Try different Padding\n",
      "----------------------------------------------------------------------------------------------------\n",
      "Finding Missing Message for padding :'YOU SEE A GOLD-BUG IN ONE CORNER. IT IS THE KEY TO A TREASURE FOUND BY '\n",
      "No results Found!! Try different Padding\n",
      "----------------------------------------------------------------------------------------------------\n",
      "Finding Missing Message for padding :'INFINITY: This door has RSA encryption with exponent 5 and the password is '\n",
      "Root found is : 165729669577494468957753\n",
      "Password is : C8YP7oLo6Y\n",
      "Message is : INFINITY: This door has RSA encryption with exponent 5 and the password is C8YP7oLo6Y\n"
     ]
    }
   ],
   "source": [
    "# ciphertext\n",
    "c = 50178623865464437705117894233684051163813370400911458370665447586087316913420453473147267127501500015268357303406362797757594192085386118589199026764728144285648441781750590996960989276697083883546011278089668087634138747937486517183338383654747494705690147895462073667848010755833844425024779162363493605520\n",
    "# public key (n, e)\n",
    "n = 84364443735725034864402554533826279174703893439763343343863260342756678609216895093779263028809246505955647572176682669445270008816481771701417554768871285020442403001649254405058303439906229201909599348669565697534331652019516409514800265887388539283381053937433496994442146419682027649079704982600857517093\n",
    "e = 5\n",
    "\n",
    "# Different paddings tried\n",
    "m1 = 'You see a Gold-Bug in one corner. It is the key to a treasure found by '\n",
    "m2 = 'INFINITY: This door has RSA encryption with exponent 5 and the password is '\n",
    "padding = [m1, m1.lower(), m1.upper(), m2]\n",
    "\n",
    "# Used innbuilt function small_roots to find the roots of the polynomial equation in x\n",
    "def find_roots(f, K):\n",
    "    rt = f.small_roots(K, beta=1)\n",
    "    return rt\n",
    "\n",
    "# returns binary of string using eaach charcater's ASCII value, converts each character to their 8 bit ASCII binary\n",
    "def str_to_bin(str):\n",
    "    a = [bin(ord(i))[2:].zfill(8) for i in str]\n",
    "    return ''.join(a)\n",
    "\n",
    "# return the polynomial equation, here x is the variable\n",
    "def poly_eqn(x, M):\n",
    "    exp_eqn = (x+M)^e\n",
    "    return exp_eqn - c\n",
    "\n",
    "def find_missing_msg(m):\n",
    "    print(\"-\"*100)\n",
    "    print(\"Finding Missing Message for padding :'\"+m+\"'\")\n",
    "    P.<x> = PolynomialRing(Zmod(n))\n",
    "    flag = 0\n",
    "    min_char = ' '\n",
    "    max_len_msg = 25\n",
    "    max_char = '~'\n",
    "    for i in range(1, max_len_msg):\n",
    "        M = int((str_to_bin(m + min_char*i)),2)\n",
    "        max_v = int(str_to_bin(max_char*i),2)\n",
    "        p_eqn = poly_eqn(x,M)\n",
    "        # p_eqn is the polynomial eqn. with different length of message\n",
    "        x0 = find_roots(p_eqn, max_v)\n",
    "        if x0 != []:\n",
    "            x0 = int(x0[0])\n",
    "            print(\"Root found is :\", x0)\n",
    "            flag=1;\n",
    "            break\n",
    "\n",
    "    if flag == 1:\n",
    "        x = int(str_to_bin(' ' * i), 2) + x0\n",
    "        x = int.to_bytes(x, i, \"big\").decode()\n",
    "        print(\"Password is :\", x)\n",
    "        print(\"Message is :\", m+x)\n",
    "    else:\n",
    "        print(\"No results Found!! Try different Padding\")\n",
    "    return\n",
    "\n",
    "for p in padding:\n",
    "    find_missing_msg(p)"
   ]
  },
  {
   "cell_type": "code",
   "execution_count": null,
   "metadata": {},
   "outputs": [],
   "source": []
  }
 ],
 "metadata": {
  "kernelspec": {
   "display_name": "SageMath 9.3",
   "language": "sage",
   "name": "sagemath"
  },
  "language_info": {
   "codemirror_mode": {
    "name": "ipython",
    "version": 3
   },
   "file_extension": ".py",
   "mimetype": "text/x-python",
   "name": "python",
   "nbconvert_exporter": "python",
   "pygments_lexer": "ipython3",
   "version": "3.7.10"
  }
 },
 "nbformat": 4,
 "nbformat_minor": 4
}
